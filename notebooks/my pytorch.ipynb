{
 "cells": [
  {
   "cell_type": "code",
   "execution_count": 11,
   "id": "95d06994",
   "metadata": {},
   "outputs": [],
   "source": [
    "from dataclasses import dataclass"
   ]
  },
  {
   "cell_type": "code",
   "execution_count": 43,
   "id": "2d6fe52e",
   "metadata": {},
   "outputs": [],
   "source": [
    "@dataclass\n",
    "class Tensor:\n",
    "    def __init__(self, values, shape, strides, storage_offset):\n",
    "        self.values = values\n",
    "        self.shape = shape \n",
    "        self.strides = strides\n",
    "        self.storage_offset = storage_offset\n",
    "    \n",
    "    def __getitem__(self, idxs):\n",
    "        return self.values[self.storage_offset + sum(idx * stride for idx, stride in zip(idxs, self.strides))]\n",
    "        # We also need to support indexing, masking, and getting rows out of matrices.\n",
    "    \n",
    "    def sum(self, dims):\n",
    "        pass\n",
    "    \n",
    "    def sum_backwards(self, dims):\n",
    "        pass\n",
    "    \n",
    "    def as_strided(self, shape, strides, storage_offset):\n",
    "        return Tensor(self.values, self.shape, self.strides, self.storage_offset)\n",
    "    \n",
    "    def as_strided_backwards(self, shape, strides, storage_offset):\n",
    "        pass"
   ]
  },
  {
   "cell_type": "code",
   "execution_count": 44,
   "id": "faf80c59",
   "metadata": {},
   "outputs": [],
   "source": [
    "tens = Tensor([1, 2, 3, 4], [2, 2], [2, 1], 0)"
   ]
  },
  {
   "cell_type": "code",
   "execution_count": null,
   "id": "2b2abe36",
   "metadata": {},
   "outputs": [],
   "source": []
  }
 ],
 "metadata": {
  "kernelspec": {
   "display_name": "Python 3 (ipykernel)",
   "language": "python",
   "name": "python3"
  },
  "language_info": {
   "codemirror_mode": {
    "name": "ipython",
    "version": 3
   },
   "file_extension": ".py",
   "mimetype": "text/x-python",
   "name": "python",
   "nbconvert_exporter": "python",
   "pygments_lexer": "ipython3",
   "version": "3.9.7"
  }
 },
 "nbformat": 4,
 "nbformat_minor": 5
}
